{
 "cells": [
  {
   "cell_type": "code",
   "execution_count": null,
   "id": "ef3c6126-0669-4eb9-b820-777cc0d76439",
   "metadata": {},
   "outputs": [],
   "source": [
    "print(\"Hello, Jupyter!\")"
   ]
  },
  {
   "cell_type": "code",
   "execution_count": null,
   "id": "918c6958-efc8-46c2-b537-28e9c4c87f7e",
   "metadata": {},
   "outputs": [],
   "source": [
    "age = 30\n",
    "name = \"Alice\"\n",
    "print(\"Hello,\", name, \"! You are\", age, \"years old.\")"
   ]
  },
  {
   "cell_type": "code",
   "execution_count": null,
   "id": "c804cc78-918b-43d4-8b56-b21f938b6783",
   "metadata": {},
   "outputs": [],
   "source": []
  }
 ],
 "metadata": {
  "kernelspec": {
   "display_name": "Python 3 (ipykernel)",
   "language": "python",
   "name": "python3"
  },
  "language_info": {
   "codemirror_mode": {
    "name": "ipython",
    "version": 3
   },
   "file_extension": ".py",
   "mimetype": "text/x-python",
   "name": "python",
   "nbconvert_exporter": "python",
   "pygments_lexer": "ipython3",
   "version": "3.11.5"
  }
 },
 "nbformat": 4,
 "nbformat_minor": 5
}
